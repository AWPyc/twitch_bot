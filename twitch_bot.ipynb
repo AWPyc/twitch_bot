{
 "cells": [
  {
   "attachments": {},
   "cell_type": "markdown",
   "id": "d49a8364",
   "metadata": {},
   "source": [
    "### Install requirements using requirements.txt file\n",
    "#### '$ conda create --name <env> --file <this file>'"
   ]
  },
  {
   "attachments": {},
   "cell_type": "markdown",
   "id": "5bea73b2",
   "metadata": {},
   "source": [
    "Use CUDA for faster computing if Your GPU supports it\n",
    "It should print something like this if u have cudnn installed\n",
    "'''\n",
    "PyTorch version: 2.0.1\n",
    "**********\n",
    "_CUDA version: \n",
    "nvcc: NVIDIA (R) Cuda compiler driver\n",
    "Copyright (c) 2005-2023 NVIDIA Corporation\n",
    "Built on Mon_Apr__3_17:36:15_Pacific_Daylight_Time_2023\n",
    "Cuda compilation tools, release 12.1, V12.1.105\n",
    "Build cuda_12.1.r12.1/compiler.32688072_0\n",
    "**********\n",
    "CUDNN version: 8700\n",
    "Available GPU devices: 1\n",
    "Device Name: NVIDIA GeForce RTX 3080 Ti'''"
   ]
  },
  {
   "cell_type": "code",
   "execution_count": null,
   "id": "3aa282f6",
   "metadata": {},
   "outputs": [],
   "source": [
    "import torch\n",
    "print(f'PyTorch version: {torch.__version__}')\n",
    "print('*'*10)\n",
    "print(f'_CUDA version: ')\n",
    "!nvcc --version\n",
    "print('*'*10)\n",
    "print(f'CUDNN version: {torch.backends.cudnn.version()}')\n",
    "print(f'Available GPU devices: {torch.cuda.device_count()}')\n",
    "print(f'Device Name: {torch.cuda.get_device_name()}')"
   ]
  },
  {
   "cell_type": "code",
   "execution_count": 5,
   "id": "3124a943",
   "metadata": {},
   "outputs": [],
   "source": [
    "# imports\n",
    "import time\n",
    "from selenium import webdriver\n",
    "from time import sleep\n",
    "import cv2\n",
    "from selenium.webdriver.common import by\n",
    "from selenium.webdriver.chrome.options import Options\n",
    "from selenium.webdriver.common.keys import Keys\n",
    "from selenium.webdriver.chrome.service import Service\n",
    "import easyocr\n",
    "from fuzzywuzzy import fuzz\n",
    "import os"
   ]
  },
  {
   "attachments": {},
   "cell_type": "markdown",
   "id": "cf12953c",
   "metadata": {},
   "source": [
    "##### We have to link existing webbrowser session to selenium to bypass twitch.tv security procedures -> twitch.tv won't let you log in to your account (or bot account) and will throw error like this: \"Your webbrowser is outdated\"\n",
    "\n",
    "##### In case u don't know how to set up own chromedriver -> https://www.youtube.com/watch?v=Zrx8FSEo9lk"
   ]
  },
  {
   "attachments": {},
   "cell_type": "markdown",
   "id": "bc3e250d",
   "metadata": {},
   "source": [
    "#### Spawn chrome session using command prompt"
   ]
  },
  {
   "cell_type": "code",
   "execution_count": null,
   "id": "dbc72e06",
   "metadata": {},
   "outputs": [],
   "source": [
    "os.chdir('C:\\Program Files\\Google\\Chrome\\Application') # Path to Google Chrome\n",
    "os.system(r'chrome.exe --remote-debugging-port=9222 --user-data-dir=\"link_to_chrome_profile\"')"
   ]
  },
  {
   "attachments": {},
   "cell_type": "markdown",
   "id": "c712d015",
   "metadata": {},
   "source": [
    "#### Initialize and link selenium webdriver to your already existing webbrowser session"
   ]
  },
  {
   "cell_type": "code",
   "execution_count": 7,
   "id": "2aebc8af",
   "metadata": {},
   "outputs": [],
   "source": [
    "# Initialize options to a chromedriver\n",
    "opt = Options()\n",
    "opt.add_experimental_option(name='debuggerAddress', value='localhost:9222')\n",
    "\n",
    "# Link selenium to existing webbrowser session\n",
    "service = Service(\"link_to_chromedriver.exe\")\n",
    "driver = webdriver.Chrome(service=service, options=opt)\n",
    "# Change url to desired\n",
    "driver.get(url='desired_url_to_open')"
   ]
  },
  {
   "attachments": {},
   "cell_type": "markdown",
   "id": "1f730488",
   "metadata": {},
   "source": [
    "#### Initialize reader object"
   ]
  },
  {
   "cell_type": "code",
   "execution_count": null,
   "id": "ce9a7752",
   "metadata": {},
   "outputs": [],
   "source": [
    "# I am using CUDA -> in case you don't want to use CUDA set 'gpu' to 'false'\n",
    "reader = easyocr.Reader(['pl'], gpu=True)"
   ]
  },
  {
   "attachments": {},
   "cell_type": "markdown",
   "id": "16a291c9",
   "metadata": {},
   "source": [
    "#### Main script's loop"
   ]
  },
  {
   "cell_type": "code",
   "execution_count": null,
   "id": "0661e0d0",
   "metadata": {},
   "outputs": [],
   "source": [
    "# reader bias\n",
    "ratio = 0\n",
    "while True:\n",
    "    # Get screenshot and save to analyze\n",
    "    driver.get_screenshot_as_file(\"screenshot.png\")\n",
    "    \n",
    "    # Read image from which text needs to be extracted\n",
    "    img = cv2.imread(\"screenshot.png\")\n",
    "    # Adjust image sector that fits your screen resolution and contains the desired image content\n",
    "    cropped_img = img[370:500, 680:1200]\n",
    "    # Read text using model from easyocr\n",
    "    text = reader.readtext(cropped_img)\n",
    "\n",
    "    # Validate string value\n",
    "    try:\n",
    "        bbox, value, score = text[0]\n",
    "        ratio = fuzz.ratio('text_to_validate', value)\n",
    "        print(f'Value: {ratio}')\n",
    "        \n",
    "        # Determine bias empirically\n",
    "        if ratio > 50:\n",
    "            # Find input element and fill it with command, clear element\n",
    "            # chat-wysiwyg-input__editor is a class name of the input element on twitch chat  \n",
    "            inputElement = driver.find_element(by=by.By.CLASS_NAME, value='chat-wysiwyg-input__editor')\n",
    "            inputElement.send_keys(Keys.CLEAR)\n",
    "            # Send your command\n",
    "            inputElement.send_keys(',boss deaths +1')\n",
    "            inputElement.send_keys(Keys.ENTER)\n",
    "            # This print is strictly for debugging purposes\n",
    "            print('FOUND')\n",
    "    except:\n",
    "        # This print is strictly for debugging purposes\n",
    "        print('NOT FOUND')\n",
    "        continue\n",
    "    # Adjust sleep time between readings\n",
    "    time.sleep(5)\n",
    "\n",
    "driver.quit()"
   ]
  }
 ],
 "metadata": {
  "kernelspec": {
   "display_name": "Python 3 (ipykernel)",
   "language": "python",
   "name": "python3"
  },
  "language_info": {
   "codemirror_mode": {
    "name": "ipython",
    "version": 3
   },
   "file_extension": ".py",
   "mimetype": "text/x-python",
   "name": "python",
   "nbconvert_exporter": "python",
   "pygments_lexer": "ipython3",
   "version": "3.10.9"
  }
 },
 "nbformat": 4,
 "nbformat_minor": 5
}
